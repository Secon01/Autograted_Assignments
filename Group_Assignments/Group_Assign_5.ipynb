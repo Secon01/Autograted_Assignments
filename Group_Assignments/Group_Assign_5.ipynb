{
 "cells": [
  {
   "cell_type": "code",
   "execution_count": null,
   "id": "886d11c9",
   "metadata": {},
   "outputs": [
    {
     "name": "stdout",
     "output_type": "stream",
     "text": [
      "99815\n"
     ]
    }
   ],
   "source": [
    "from scipy.stats import bernoulli\n",
    "import numpy as np\n",
    "\n",
    "a = 0.05\n",
    "p = 0.4\n",
    "e = lambda n: np.sqrt((1/(2*n))*np.log(2/a))\n",
    "# Mean probability\n",
    "def p_n(n): \n",
    "    return sum(bernoulli.rvs(p = p, size = n))/n\n",
    "# Confidence Interval I_n\n",
    "def I(n):\n",
    "    return [p_n(n) - e(n),p_n(n) + e(n)]\n",
    "# Checks if confidence interval contains p\n",
    "def contains_p(i,p):\n",
    "    if (p >= i[0] and p <= i[1]):\n",
    "        return True\n",
    "    return False\n",
    "# Simulation Study\n",
    "def simulation_study(n, N):\n",
    "    inside_I = 0\n",
    "    i = 0\n",
    "    while(i <= N):\n",
    "        if(contains_p(I(n), p)):\n",
    "            inside_I+=1\n",
    "        i+=1\n",
    "    return inside_I\n",
    "print(simulation_study(10,100000))"
   ]
  },
  {
   "cell_type": "code",
   "execution_count": null,
   "id": "d36f9d8d",
   "metadata": {},
   "outputs": [],
   "source": []
  }
 ],
 "metadata": {
  "kernelspec": {
   "display_name": "Python 3",
   "language": "python",
   "name": "python3"
  },
  "language_info": {
   "codemirror_mode": {
    "name": "ipython",
    "version": 3
   },
   "file_extension": ".py",
   "mimetype": "text/x-python",
   "name": "python",
   "nbconvert_exporter": "python",
   "pygments_lexer": "ipython3",
   "version": "3.13.3"
  }
 },
 "nbformat": 4,
 "nbformat_minor": 5
}
